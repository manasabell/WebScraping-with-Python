{
 "cells": [
  {
   "cell_type": "code",
   "execution_count": 48,
   "metadata": {},
   "outputs": [],
   "source": [
    "# downloading the necessary libraries for web scraping and creating data frames\n",
    "from bs4 import BeautifulSoup\n",
    "import pandas as pd"
   ]
  },
  {
   "cell_type": "markdown",
   "metadata": {},
   "source": [
    "A basic library for webscraping html content. It is a safe library to download the static HTML content. We cannot access the dynamic data"
   ]
  },
  {
   "cell_type": "code",
   "execution_count": 49,
   "metadata": {},
   "outputs": [],
   "source": [
    "# this library - requests allows for easier collection of data from the web page\n",
    "import requests   \n",
    "import json"
   ]
  },
  {
   "cell_type": "code",
   "execution_count": 50,
   "metadata": {},
   "outputs": [
    {
     "name": "stdout",
     "output_type": "stream",
     "text": [
      "https://www.harvardartmuseums.org/browse\n"
     ]
    }
   ],
   "source": [
    "# here we try to populate the url with the website address and the path seperated. This enables foe easy change of data when needed to\n",
    "museum_domain = 'https://www.harvardartmuseums.org'\n",
    "collection_path = 'browse'\n",
    "\n",
    "collection_url = (museum_domain\n",
    "                  + \"/\"\n",
    "                  + collection_path)\n",
    "\n",
    "print(collection_url)"
   ]
  },
  {
   "cell_type": "code",
   "execution_count": 51,
   "metadata": {},
   "outputs": [],
   "source": [
    "# This object is populated with data from the url with the parameters specified\n",
    "collections1 = requests.get(\n",
    "    collection_url,\n",
    "    params = {'load_amount': 10,\n",
    "                  'offset': 0}\n",
    ")"
   ]
  },
  {
   "cell_type": "code",
   "execution_count": 52,
   "metadata": {},
   "outputs": [
    {
     "data": {
      "text/plain": [
       "'application/json'"
      ]
     },
     "execution_count": 52,
     "metadata": {},
     "output_type": "execute_result"
    }
   ],
   "source": [
    "#The content type of the website is displayed\n",
    "collections1.headers['Content-Type']"
   ]
  },
  {
   "cell_type": "code",
   "execution_count": 53,
   "metadata": {},
   "outputs": [
    {
     "name": "stdout",
     "output_type": "stream",
     "text": [
      "200\n"
     ]
    }
   ],
   "source": [
    "print(collections1.status_code) # 200 -means successful"
   ]
  },
  {
   "cell_type": "code",
   "execution_count": 54,
   "metadata": {},
   "outputs": [],
   "source": [
    "#The objects is specified about the format of the input data\n",
    "collections1 = collections1.json()"
   ]
  },
  {
   "cell_type": "code",
   "execution_count": 55,
   "metadata": {},
   "outputs": [
    {
     "name": "stdout",
     "output_type": "stream",
     "text": [
      "  accessionmethod  accessionyear  accesslevel       century classification  \\\n",
      "0            Gift           1996            1  18th century          Boxes   \n",
      "1        Purchase           1991            1   6th century        Vessels   \n",
      "2            Gift           2009            1  20th century         Prints   \n",
      "3            Gift           1978            1  18th century       Drawings   \n",
      "4            Gift           1984            1  19th century    Manuscripts   \n",
      "5            Gift           2003            1  21st century      Paintings   \n",
      "6        Purchase           1972            1  20th century    Photographs   \n",
      "7            Gift           2009            1  20th century         Prints   \n",
      "8        Purchase           2008            1  20th century    Photographs   \n",
      "9            Gift           2000            1  16th century         Prints   \n",
      "\n",
      "   classificationid  colorcount  \\\n",
      "0                85           0   \n",
      "1                57           0   \n",
      "2                23           9   \n",
      "3                21           6   \n",
      "4               185           0   \n",
      "5                26           9   \n",
      "6                17          10   \n",
      "7                23          10   \n",
      "8                17           0   \n",
      "9                23           7   \n",
      "\n",
      "                                              colors commentary  \\\n",
      "0                                                NaN       None   \n",
      "1                                                NaN       None   \n",
      "2  [{'percent': 0.32941520467836, 'spectrum': '#9...       None   \n",
      "3  [{'percent': 0.25892655367232, 'spectrum': '#e...       None   \n",
      "4                                                NaN       None   \n",
      "5  [{'percent': 0.29954802259887, 'spectrum': '#3...       None   \n",
      "6  [{'percent': 0.46293785310734, 'spectrum': '#2...       None   \n",
      "7  [{'percent': 0.44787878787879, 'spectrum': '#9...       None   \n",
      "8                                                NaN       None   \n",
      "9  [{'percent': 0.40814102564103, 'spectrum': '#8...       None   \n",
      "\n",
      "                             contact  \\\n",
      "0  am_asianmediterranean@harvard.edu   \n",
      "1  am_asianmediterranean@harvard.edu   \n",
      "2  am_moderncontemporary@harvard.edu   \n",
      "3    am_europeanamerican@harvard.edu   \n",
      "4  am_asianmediterranean@harvard.edu   \n",
      "5  am_moderncontemporary@harvard.edu   \n",
      "6  am_moderncontemporary@harvard.edu   \n",
      "7  am_moderncontemporary@harvard.edu   \n",
      "8  am_moderncontemporary@harvard.edu   \n",
      "9    am_europeanamerican@harvard.edu   \n",
      "\n",
      "                         ...                          \\\n",
      "0                        ...                           \n",
      "1                        ...                           \n",
      "2                        ...                           \n",
      "3                        ...                           \n",
      "4                        ...                           \n",
      "5                        ...                           \n",
      "6                        ...                           \n",
      "7                        ...                           \n",
      "8                        ...                           \n",
      "9                        ...                           \n",
      "\n",
      "                                  technique techniqueid  \\\n",
      "0                                      None         NaN   \n",
      "1                                      None         NaN   \n",
      "2  Etching, softground etching and drypoint      4769.0   \n",
      "3                                      None         NaN   \n",
      "4                                      None         NaN   \n",
      "5                                      None         NaN   \n",
      "6                      Gelatin silver print       123.0   \n",
      "7                              Offset print      6961.0   \n",
      "8                        Dye transfer print      1615.0   \n",
      "9                                 Engraving        98.0   \n",
      "\n",
      "                                               title titlescount  \\\n",
      "0  Inkstone Box (Suzuribako) with Monkey-and-Pers...           2   \n",
      "1  Large Bowl-Type Pedestal Stand with Abstract a...           1   \n",
      "2  Abandoned post near Vis-en Artois (Verlassene ...           1   \n",
      "3         Fountain in the Garden of an Italian Villa           2   \n",
      "4        Illustrated Buddhist Text (in Khmer script)           1   \n",
      "5                                        Dorian Gray           1   \n",
      "6                                         New York 7           1   \n",
      "7                                   Monte Carlo Bond           1   \n",
      "8                     Detroit (Ragsdale Beauty Shop)           1   \n",
      "9                                            Nemesis           2   \n",
      "\n",
      "   totalpageviews totaluniquepageviews  \\\n",
      "0             613                  522   \n",
      "1             616                  542   \n",
      "2             706                  604   \n",
      "3             629                  535   \n",
      "4             668                  578   \n",
      "5            1062                  855   \n",
      "6             636                  539   \n",
      "7             845                  744   \n",
      "8             858                  697   \n",
      "9            1116                  885   \n",
      "\n",
      "                                                 url verificationlevel  \\\n",
      "0  https://www.harvardartmuseums.org/collections/...                 2   \n",
      "1  https://www.harvardartmuseums.org/collections/...                 3   \n",
      "2  https://www.harvardartmuseums.org/collections/...                 3   \n",
      "3  https://www.harvardartmuseums.org/collections/...                 4   \n",
      "4  https://www.harvardartmuseums.org/collections/...                 0   \n",
      "5  https://www.harvardartmuseums.org/collections/...                 3   \n",
      "6  https://www.harvardartmuseums.org/collections/...                 3   \n",
      "7  https://www.harvardartmuseums.org/collections/...                 3   \n",
      "8  https://www.harvardartmuseums.org/collections/...                 3   \n",
      "9  https://www.harvardartmuseums.org/collections/...                 3   \n",
      "\n",
      "                        verificationleveldescription  \\\n",
      "0  Adequate. Object is adequately described but i...   \n",
      "1  Good. Object is well described and information...   \n",
      "2  Good. Object is well described and information...   \n",
      "3  Best. Object is extensively researched, well d...   \n",
      "4  Unchecked. Object information has not been ver...   \n",
      "5  Good. Object is well described and information...   \n",
      "6  Good. Object is well described and information...   \n",
      "7  Good. Object is well described and information...   \n",
      "8  Good. Object is well described and information...   \n",
      "9  Good. Object is well described and information...   \n",
      "\n",
      "                                           worktypes  \n",
      "0          [{'worktypeid': '50', 'worktype': 'box'}]  \n",
      "1       [{'worktypeid': '345', 'worktype': 'stand'}]  \n",
      "2       [{'worktypeid': '280', 'worktype': 'print'}]  \n",
      "3     [{'worktypeid': '125', 'worktype': 'drawing'}]  \n",
      "4  [{'worktypeid': '208', 'worktype': 'manuscript'}]  \n",
      "5    [{'worktypeid': '244', 'worktype': 'painting'}]  \n",
      "6  [{'worktypeid': '261', 'worktype': 'photograph'}]  \n",
      "7       [{'worktypeid': '280', 'worktype': 'print'}]  \n",
      "8  [{'worktypeid': '261', 'worktype': 'photograph'}]  \n",
      "9       [{'worktypeid': '280', 'worktype': 'print'}]  \n",
      "\n",
      "[10 rows x 62 columns]\n"
     ]
    }
   ],
   "source": [
    "#The collected data is put into a data frame for analysis or further processing\n",
    "#The list of dicts is converted into a data frame.\n",
    "records1 = pd.DataFrame.from_records(collections1['records'])\n",
    "print(records1)"
   ]
  },
  {
   "cell_type": "code",
   "execution_count": 46,
   "metadata": {},
   "outputs": [],
   "source": [
    "#The collected data from the website, has been saved in a spread sheet for later. \n",
    "#The file gets saved in the same folder path as the python note book \n",
    "records1.to_csv(\"records1.csv\")"
   ]
  }
 ],
 "metadata": {
  "kernelspec": {
   "display_name": "Python 3",
   "language": "python",
   "name": "python3"
  },
  "language_info": {
   "codemirror_mode": {
    "name": "ipython",
    "version": 3
   },
   "file_extension": ".py",
   "mimetype": "text/x-python",
   "name": "python",
   "nbconvert_exporter": "python",
   "pygments_lexer": "ipython3",
   "version": "3.6.5"
  }
 },
 "nbformat": 4,
 "nbformat_minor": 2
}
